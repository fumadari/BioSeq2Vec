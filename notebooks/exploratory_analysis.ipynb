{
 "cells": [
  {
   "cell_type": "markdown",
   "metadata": {},
   "source": [
    "# Exploratory Data Analysis of Biological Sequences\n",
    "\n",
    "## Introduction\n",
    "\n",
    "In this notebook, we perform exploratory data analysis (EDA) on the biological sequences to understand their properties before feeding them into the model.\n",
    "\n",
    "## Contents\n",
    "\n",
    "- Loading the data\n",
    "- Sequence length distribution\n",
    "- Nucleotide frequency analysis\n",
    "- Visualization of sample sequences\n"
   ]
  },
  {
   "cell_type": "code",
   "execution_count": null,
   "metadata": {},
   "outputs": [],
   "source": [
    "## Code Snippets\n",
    "\n",
    "import matplotlib.pyplot as plt\n",
    "from Bio import SeqIO\n",
    "import seaborn as sns\n",
    "\n",
    "# Load sequences\n",
    "sequences = [str(record.seq) for record in SeqIO.parse('data/sample_sequences.fasta', 'fasta')]\n",
    "\n",
    "# Sequence lengths\n",
    "seq_lengths = [len(seq) for seq in sequences]\n",
    "\n",
    "# Plot sequence length distribution\n",
    "plt.hist(seq_lengths, bins=10)\n",
    "plt.title('Sequence Length Distribution')\n",
    "plt.xlabel('Sequence Length')\n",
    "plt.ylabel('Frequency')\n",
    "plt.show()\n",
    "\n",
    "# Nucleotide frequency\n",
    "from collections import Counter\n",
    "all_sequences = ''.join(sequences)\n",
    "nucleotide_counts = Counter(all_sequences)\n",
    "\n",
    "# Plot nucleotide distribution\n",
    "sns.barplot(x=list(nucleotide_counts.keys()), y=list(nucleotide_counts.values()))\n",
    "plt.title('Nucleotide Frequency')\n",
    "plt.xlabel('Nucleotide')\n",
    "plt.ylabel('Count')\n",
    "plt.show()"
   ]
  }
 ],
 "metadata": {
  "language_info": {
   "name": "python"
  }
 },
 "nbformat": 4,
 "nbformat_minor": 2
}
